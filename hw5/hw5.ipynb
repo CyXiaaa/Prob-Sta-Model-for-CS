{
 "cells": [
  {
   "cell_type": "markdown",
   "id": "bd260579",
   "metadata": {},
   "source": [
    "#"
   ]
  },
  {
   "cell_type": "markdown",
   "id": "9a3f6bce",
   "metadata": {},
   "source": [
    "##\n",
    "\\begin{eqnarray}\n",
    "P(I) = (1 - 0.4)^6 = 0.046656\\\\\n",
    "P(S) = \\binom{6}{1} \\times 0.4 \\times 0.6^5 = 0.187\n",
    "\\end{eqnarray}"
   ]
  },
  {
   "cell_type": "markdown",
   "id": "134dc429",
   "metadata": {},
   "source": [
    "###### \\begin{eqnarray}\n",
    "P(C) &=& 1 - P(I) - P(S) = 0.766344\\\\\n",
    "P(C|E) &=& 1 - P(I|E) - P(S|E) = 1 - 0.2 - 0.3 = 0.5\\\\\n",
    "P(E|C) &=& \\frac{P(E) \\times P(E|C)}{P(E)}  \\\\\n",
    "       &=& \\frac{0.5 \\times 0.5}{0.766344} = 0.326\n",
    "\\end{eqnarray}"
   ]
  },
  {
   "cell_type": "markdown",
   "id": "42f65de0",
   "metadata": {},
   "source": [
    "#"
   ]
  },
  {
   "cell_type": "markdown",
   "id": "4b76d6ca",
   "metadata": {},
   "source": [
    "##\n",
    "\\begin{eqnarray}\n",
    "f_x &=& \\int_{x}^{10} \\frac{10}{x^2}dx \\\\\n",
    "    &=& -10x^{-1} \\bigg\\rvert_{10}^x \\\\\n",
    "    &=& -10x^{-1} + 10 \\times 10^{-1}\\\\\n",
    "    &=& -10x^{-1} + 1\n",
    "\\end{eqnarray}"
   ]
  },
  {
   "cell_type": "markdown",
   "id": "e5b3fc15",
   "metadata": {},
   "source": [
    "##\n",
    "\\begin{eqnarray}\n",
    "P(X \\leq 15) = -10 \\times 15^{-1} + 1 = 0.3333\n",
    "\\end{eqnarray}"
   ]
  },
  {
   "cell_type": "markdown",
   "id": "958885e3",
   "metadata": {},
   "source": [
    "##\n",
    "\\begin{eqnarray}\n",
    "P = \\frac{1}{3}^3 \\times \\frac{2}{3} = \\frac{2}{81}\n",
    "\\end{eqnarray}"
   ]
  },
  {
   "cell_type": "markdown",
   "id": "3fbb853f",
   "metadata": {},
   "source": [
    "#"
   ]
  },
  {
   "cell_type": "markdown",
   "id": "3b84e930",
   "metadata": {},
   "source": [
    "\\begin{eqnarray}\n",
    "P(T > 8) = &=& P(\\min(X_1 , X_2) > 8) \\\\[2mm]\n",
    "           &=& P(X_1 > 8 \\cap X_2 > 8) \\\\[2mm]\n",
    "           &=& \\underbrace{P(X_1 > 8) \\times P(X_2 > 8)}_{\\text{due to independence}} \\\\[2mm]\n",
    "           &=&  e^{-\\frac{1}{10} \\times 8} e^{-\\frac{1}{5} \\times 8} \\\\[2mm]\n",
    "           &=& e^{-\\frac{12}{5}}\n",
    "\\end{eqnarray}\n"
   ]
  },
  {
   "cell_type": "markdown",
   "id": "91f9072d",
   "metadata": {},
   "source": [
    "#"
   ]
  },
  {
   "cell_type": "markdown",
   "id": "3bcece84",
   "metadata": {},
   "source": [
    "##\n",
    "\\begin{eqnarray}\n",
    "Z &=& \\frac{72 - \\mu}{\\sigma} = \\frac{72 - 71}{2.5} = 0.4\\\\\n",
    "\\Phi(0.4) &=& 0.6554 \\\\\n",
    "P(x>72) &=& 1 - 0.6554 = 0.3446\n",
    "\\end{eqnarray}"
   ]
  },
  {
   "cell_type": "markdown",
   "id": "839cdeb0",
   "metadata": {},
   "source": [
    "##\n",
    "\\begin{eqnarray}\n",
    "\\Phi(\\frac{m - \\mu}{\\sigma}) &=& 0.883 \\\\\n",
    "      \\frac{m - \\mu}{\\sigma} &=& 1.19\\\\\n",
    "                           m &=& 1.19 \\times \\sigma + \\mu \\\\\n",
    "                           m &=& 73.975\n",
    "\\end{eqnarray}"
   ]
  },
  {
   "cell_type": "markdown",
   "id": "e45d852d",
   "metadata": {},
   "source": [
    "#"
   ]
  },
  {
   "cell_type": "markdown",
   "id": "7925d38b",
   "metadata": {},
   "source": [
    "## \n",
    "\\begin{eqnarray}\n",
    "\\eta = P(F = 1 | L = 1) =  1 - P(F = 0 | L = 1) = 1 - 0.1 = 0.9\n",
    "\\end{eqnarray}"
   ]
  },
  {
   "cell_type": "markdown",
   "id": "3e1a19e6",
   "metadata": {},
   "source": [
    "##\n",
    "\\begin{eqnarray}\n",
    "\\theta = P(F = 0 | L = 0) =  1 - P(F = 1 | L = 0) = 1 - 0.2 = 0.8\n",
    "\\end{eqnarray}"
   ]
  }
 ],
 "metadata": {
  "kernelspec": {
   "display_name": "R",
   "language": "R",
   "name": "ir"
  },
  "language_info": {
   "codemirror_mode": "r",
   "file_extension": ".r",
   "mimetype": "text/x-r-source",
   "name": "R",
   "pygments_lexer": "r",
   "version": "4.3.3"
  }
 },
 "nbformat": 4,
 "nbformat_minor": 5
}
