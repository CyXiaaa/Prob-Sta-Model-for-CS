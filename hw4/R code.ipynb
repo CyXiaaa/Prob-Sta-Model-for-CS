{
 "cells": [
  {
   "cell_type": "markdown",
   "id": "a348a49c",
   "metadata": {},
   "source": [
    "#1"
   ]
  },
  {
   "cell_type": "code",
   "execution_count": null,
   "id": "0dfe1bea",
   "metadata": {},
   "outputs": [],
   "source": [
    "# N:      the number of unique coupons\n",
    "# NSim:   the number of simulations that we will perform\n",
    "# num:    record the number of trials needed to get a complete\n",
    "#         set of one of each type of  coupon for each simulation\n",
    "\n",
    "data = numeric(6)\n",
    "theoretical = numeric(6)\n",
    "NSim=1000           \t\t # Number of simulations             \t\t # This is  a vector initialized to 0; \n",
    "                                    # function rep(0,NSim) replicates the value 0, NSim times\n",
    "for(j in c(10,20,30,40,50,60)){\n",
    "    N=j\n",
    "    num=rep(0,NSim)\n",
    "for (i in 1:NSim){ \n",
    "  trials <-rep(0,0)                  # for a simulation intialize trials to empty\n",
    "  while (length(unique(as.vector(trials)))<N){    # until all coupons collected\n",
    "    trials<-cbind(sample(1:N,1),trials)  # withdraw a coupon and add to trials using cbind function \n",
    "    num[i]=num[i]+1                      # increment trials\n",
    "  }\n",
    "}\n",
    "data[j/10] = mean(num)\n",
    "theoretical[j/10] = N*log(N) + 0.5771*N +0.5\n",
    "print(data[j/10])\n",
    "print(theoretical[j/10])\n",
    "}\n",
    "\n",
    "\n",
    "bar_names <- c(10, 20, 30, 40, 50, 60)\n",
    "barplot(data, names.arg=bar_names, ylab=\"E(T)\", xlab=\"Plot\")\n",
    "barplot(theoretical, add = TRUE, col = \"lightgreen\")\n"
   ]
  },
  {
   "cell_type": "markdown",
   "id": "2a82bba5",
   "metadata": {},
   "source": [
    "#5"
   ]
  },
  {
   "cell_type": "code",
   "execution_count": null,
   "id": "f2698552",
   "metadata": {},
   "outputs": [],
   "source": [
    "data <- read.table(\"./Old_Faithful.txt\", header=TRUE)\n",
    "head(data)\n",
    "tail(data)"
   ]
  },
  {
   "cell_type": "code",
   "execution_count": null,
   "id": "99084d0d",
   "metadata": {},
   "outputs": [],
   "source": [
    "#1.\n",
    "low = min(data[,3])\n",
    "high = max(data[,3])\n",
    "hist(data[,3], breaks = seq(1,6,1), xlab = \"Bin\", ylab = \"Frequency Count\", main = \"Frequency Histogram of eruption-duration Time\")"
   ]
  },
  {
   "cell_type": "code",
   "execution_count": null,
   "id": "97f50b02",
   "metadata": {},
   "outputs": [],
   "source": [
    "#2.\n",
    "boxplot(data[,3], range=0.2, main = \"Boxplot of Eruption-duration Time\")"
   ]
  },
  {
   "cell_type": "code",
   "execution_count": null,
   "id": "740b410e",
   "metadata": {},
   "outputs": [],
   "source": [
    "#3.\n",
    "q = c(.95,0.97, .99)\n",
    "quantile(data[,3], q)"
   ]
  },
  {
   "cell_type": "code",
   "execution_count": null,
   "id": "afc288e3",
   "metadata": {},
   "outputs": [],
   "source": [
    "#4.\n",
    "a = data[,3]\n",
    "b = data[,3]\n",
    "for(i in 1:length(b)-1){\n",
    "    b[i] = b[i+1]\n",
    "}\n",
    "a = a[-length(a)]\n",
    "b = b[-length(b)]\n",
    "plot(x = a,y = b,ylab = \"Eruption-duration\", xlab=\"Points\")\n",
    "abline(h = 3, col = \"red\", lwd = 3)\n",
    "abline(v = 3, col = \"green\", lwd = 3)"
   ]
  },
  {
   "cell_type": "code",
   "execution_count": null,
   "id": "acec08ca",
   "metadata": {},
   "outputs": [],
   "source": [
    "#5.\n",
    "result = 0\n",
    "for(i in 1:length(a)){\n",
    "    if(a[i]>3 && b[i]>3){\n",
    "        result = result + 1\n",
    "    }\n",
    "}\n",
    "\n",
    "print(result/length(a))\n",
    "\n",
    "result = 0\n",
    "for(i in 1:length(a)){\n",
    "    if(a[i]>3 && b[i]<=3){\n",
    "        result = result + 1\n",
    "    }\n",
    "}\n",
    "print(result/length(a))\n",
    "\n",
    "result = 0\n",
    "for(i in 1:length(a)){\n",
    "    if(a[i]<=3 && b[i]>3){\n",
    "        result = result + 1\n",
    "    }\n",
    "}\n",
    "\n",
    "print(result/length(a))\n",
    "\n",
    "result = 0\n",
    "for(i in 1:length(a)){\n",
    "    if(a[i]<=3 && b[i]<=3){\n",
    "        result = result + 1\n",
    "    }\n",
    "}\n",
    "\n",
    "print(result/length(a))"
   ]
  }
 ],
 "metadata": {
  "kernelspec": {
   "display_name": "Python 3 (ipykernel)",
   "language": "python",
   "name": "python3"
  },
  "language_info": {
   "codemirror_mode": {
    "name": "ipython",
    "version": 3
   },
   "file_extension": ".py",
   "mimetype": "text/x-python",
   "name": "python",
   "nbconvert_exporter": "python",
   "pygments_lexer": "ipython3",
   "version": "3.11.7"
  }
 },
 "nbformat": 4,
 "nbformat_minor": 5
}
